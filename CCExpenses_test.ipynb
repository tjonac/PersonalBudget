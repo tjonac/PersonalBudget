{
 "cells": [
  {
   "cell_type": "code",
   "execution_count": 94,
   "id": "66367d25",
   "metadata": {},
   "outputs": [],
   "source": [
    "import fitz\n",
    "fileName = \"julio 2025\"\n",
    "year = \"2025\"\n",
    "pdfFileName = rf\"Data\\pdfFiles\\{fileName}.pdf\"\n",
    "htmlFileName = rf\"Data\\htmlFiles\\{fileName}.html\"\n",
    "doc = fitz.open(pdfFileName)\n",
    "html = ''\n",
    "\n",
    "for num_pagina in range(2,len(doc)):\n",
    "    pagina = doc.load_page(num_pagina)\n",
    "    html += pagina.get_text(\"html\")\n",
    "\n",
    "with open(htmlFileName, 'w', encoding=\"utf-8\") as f:\n",
    "    f.write(html)\n"
   ]
  },
  {
   "cell_type": "code",
   "execution_count": 95,
   "id": "16a5683f",
   "metadata": {},
   "outputs": [],
   "source": [
    "def to_num(x: str):\n",
    "    return float(x.replace('$','').replace(',','').replace(' ',''))\n",
    "\n",
    "def is_date(x:str):\n",
    "    temp = x.split(' ')\n",
    "    months = set([\n",
    "        \"ENE\", \"FEB\", \"MAR\", \"ABR\", \"MAY\", \"JUN\",\n",
    "        \"JUL\", \"AGO\", \"SEP\", \"OCT\", \"NOV\", \"DIC\"\n",
    "    ])\n",
    "    try:\n",
    "        int(x[0])\n",
    "    except:\n",
    "        return False\n",
    "    if(len(temp) != 2): return False\n",
    "\n",
    "    return (temp[1] in months)\n",
    "\n",
    "def to_date(x:str):\n",
    "    temp = x.split(' ')\n",
    "    months = {\n",
    "        \"ENE\": \"01\",\n",
    "        \"FEB\": \"02\",\n",
    "        \"MAR\": \"03\",\n",
    "        \"ABR\": \"04\",\n",
    "        \"MAY\": \"05\",\n",
    "        \"JUN\": \"06\",\n",
    "        \"JUL\": \"07\",\n",
    "        \"AGO\": \"08\",\n",
    "        \"SEP\": \"09\",\n",
    "        \"OCT\": \"10\",\n",
    "        \"NOV\": \"11\",\n",
    "        \"DIC\": \"12\"\n",
    "    }\n",
    "    temp[1]=months[temp[1]]\n",
    "    temp.append(year)\n",
    "\n",
    "    return temp[0]+'-'+temp[1]+'-'+temp[2]"
   ]
  },
  {
   "cell_type": "code",
   "execution_count": 96,
   "id": "c22fb0b5",
   "metadata": {},
   "outputs": [],
   "source": [
    "from bs4 import BeautifulSoup\n",
    "soup = BeautifulSoup(html, \"lxml\")\n",
    "tags = soup.find_all(\"span\")\n",
    "headers = [\"timestamp\", \"type\", \"description\", \"value\"]\n",
    "data = []\n",
    "i = 0\n",
    "\n",
    "while i < len(tags):\n",
    "    tag = tags[i].text.strip()\n",
    "    while(not is_date(tag) and tag != \"Saldo final del periodo\"):\n",
    "        i+=1\n",
    "        tag = tags[i].text.strip()\n",
    "    if(tag == \"Saldo final del periodo\"): break\n",
    "    else:\n",
    "        temp = []\n",
    "        for j in range(4):\n",
    "            if(j == 0): temp.append(to_date(tag))\n",
    "            elif(j == 3): temp.append(to_num(tag))\n",
    "            else: temp.append(tag)\n",
    "            i+=1\n",
    "            tag = tags[i].text.strip()\n",
    "        data.append(temp)\n",
    "\n"
   ]
  },
  {
   "cell_type": "code",
   "execution_count": 97,
   "id": "141dd68c",
   "metadata": {},
   "outputs": [],
   "source": [
    "import csv\n",
    "\n",
    "with open(rf\"Data\\parsed\\{fileName}.csv\", 'w', newline='', encoding=\"utf-8\") as csvFile:\n",
    "    writer = csv.writer(csvFile)\n",
    "    writer.writerow(headers)\n",
    "    writer.writerows(data)\n"
   ]
  }
 ],
 "metadata": {
  "kernelspec": {
   "display_name": ".venv",
   "language": "python",
   "name": "python3"
  },
  "language_info": {
   "codemirror_mode": {
    "name": "ipython",
    "version": 3
   },
   "file_extension": ".py",
   "mimetype": "text/x-python",
   "name": "python",
   "nbconvert_exporter": "python",
   "pygments_lexer": "ipython3",
   "version": "3.12.8"
  }
 },
 "nbformat": 4,
 "nbformat_minor": 5
}
