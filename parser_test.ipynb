{
 "cells": [
  {
   "cell_type": "code",
   "execution_count": 30,
   "id": "66367d25",
   "metadata": {},
   "outputs": [],
   "source": [
    "import fitz\n",
    "fileName = \"julio 2025\"\n",
    "year = \"2025\"\n",
    "op = \"AccountNu\"\n",
    "pdfFileName = rf\"Data\\pdfFiles\\{op}\\{fileName}.pdf\"\n",
    "htmlFileName = rf\"Data\\htmlFiles\\{op}\\{fileName}.html\"\n",
    "doc = fitz.open(pdfFileName)\n",
    "html = ''\n",
    "\n",
    "for num_pagina in range(1,len(doc)):\n",
    "    pagina = doc.load_page(num_pagina)\n",
    "    html += pagina.get_text(\"html\")\n",
    "\n",
    "with open(htmlFileName, 'w', encoding=\"utf-8\") as f:\n",
    "    f.write(html)\n"
   ]
  },
  {
   "cell_type": "code",
   "execution_count": 31,
   "id": "16a5683f",
   "metadata": {},
   "outputs": [],
   "source": [
    "def to_num(x: str):\n",
    "    return float(x.replace('$','').replace(',','').replace(' ',''))\n",
    "\n",
    "def is_date(x:str):\n",
    "    temp = x.split(' ')\n",
    "    months = set([\n",
    "        \"ENE\", \"FEB\", \"MAR\", \"ABR\", \"MAY\", \"JUN\",\n",
    "        \"JUL\", \"AGO\", \"SEP\", \"OCT\", \"NOV\", \"DIC\"\n",
    "    ])\n",
    "    try:\n",
    "        int(x[0])\n",
    "    except:\n",
    "        return False\n",
    "    if(len(temp) < 2): return False\n",
    "\n",
    "    return (temp[1] in months)\n",
    "\n",
    "def to_date(x:str):\n",
    "    temp = x.split(' ')\n",
    "    months = {\n",
    "        \"ENE\": \"01\",\n",
    "        \"FEB\": \"02\",\n",
    "        \"MAR\": \"03\",\n",
    "        \"ABR\": \"04\",\n",
    "        \"MAY\": \"05\",\n",
    "        \"JUN\": \"06\",\n",
    "        \"JUL\": \"07\",\n",
    "        \"AGO\": \"08\",\n",
    "        \"SEP\": \"09\",\n",
    "        \"OCT\": \"10\",\n",
    "        \"NOV\": \"11\",\n",
    "        \"DIC\": \"12\"\n",
    "    }\n",
    "    temp[1]=months[temp[1]]\n",
    "    temp.append(year)\n",
    "\n",
    "    return temp[0]+'-'+temp[1]+'-'+temp[2]"
   ]
  },
  {
   "cell_type": "code",
   "execution_count": null,
   "id": "c22fb0b5",
   "metadata": {},
   "outputs": [],
   "source": [
    "from bs4 import BeautifulSoup\n",
    "soup = BeautifulSoup(html, \"lxml\")\n",
    "tags = soup.find_all(\"span\")\n",
    "headers = [\"timestamp\", \"type\", \"description\", \"value\"]\n",
    "data = []\n",
    "i = 0\n",
    "\n",
    "while i < len(tags):\n",
    "    tag = tags[i].text.strip()\n",
    "    while(not is_date(tag) and tag != \"Saldo final del periodo\"):\n",
    "        i+=1\n",
    "        tag = tags[i].text.strip()\n",
    "    if(tag == \"Saldo final del periodo\"): break\n",
    "    else:\n",
    "        temp = []\n",
    "        for j in range(4):\n",
    "            if(j == 0): temp.append(to_date(tag))\n",
    "            elif(j == 3): temp.append(to_num(tag))\n",
    "            else: temp.append(tag)\n",
    "            i+=1\n",
    "            tag = tags[i].text.strip()\n",
    "        data.append(temp)\n",
    "\n"
   ]
  },
  {
   "cell_type": "code",
   "execution_count": 41,
   "id": "e65a6177",
   "metadata": {},
   "outputs": [
    {
     "name": "stdout",
     "output_type": "stream",
     "text": [
      "[['31-07-2025', 'Retiro de Cajita: Cajita Turbo', 150.0], ['31-07-2025', 'Irving Ignacio Belmontes Diaz Transferencia', -240.0], ['31-07-2025', 'Retiro de Cajita: Cajita Turbo', 240.0], ['31-07-2025', 'Jonathan Raymundo Torres Cardenas  Transferencia', -85.0], ['31-07-2025', 'Retiro de Cajita: Cajita Turbo', 85.0], ['30-07-2025', 'Jonathan Raymundo Torres Cardenas  Transferencia', -102.0], ['30-07-2025', 'Retiro de Cajita: Cajita Turbo', 102.0], ['30-07-2025', 'Depósito en Cajita: Cajita Turbo', -900.0], ['28-07-2025', 'CHRISTOPHER ABREK GUERRERO ALFARO        Pago', 900.0], ['26-07-2025', 'abrek Transferencia', -999.0], ['26-07-2025', 'abrek Transferencia', -1.0], ['26-07-2025', 'Retiro de Cajita: Cajita Turbo', 1000.0], ['25-07-2025', 'Depósito en Cajita: Cajita Turbo', -20600.0], ['25-07-2025', 'JONATHAN RAYMUNDO TORRES CARDENAS        yo', 20600.0], ['23-07-2025', 'Depósito en Cajita: Cajita Turbo', -9.0], ['23-07-2025', 'Pago a tu tarjeta de crédito Nu', -19991.0], ['23-07-2025', 'Retiro de Cajita: Cajita Turbo', 20000.0], ['23-07-2025', 'Jonathan Raymundo Torres Cardenas  Transferencia', -200.0], ['23-07-2025', 'Retiro de Cajita: Cajita Turbo', 200.0], ['22-07-2025', 'Depósito en Cajita: Cajita Turbo', -34.99], ['22-07-2025', 'Retiro de Cajita: Mi Primera Cajita', 34.99], ['22-07-2025', 'Depósito en Cajita: Cajita Turbo', -204.23], ['22-07-2025', 'AIRBNB * HMZZRYKYFN Compra', -3422.27], ['22-07-2025', 'Retiro de Cajita: Cajita Turbo', 3422.0], ['21-07-2025', 'QIN CENTRO Compra', -182.0], ['20-07-2025', 'LOUIE BURGUER CHAPALIT Compra', -313.5], ['20-07-2025', 'Retiro de Cajita: Mi Primera Cajita', 700.0], ['20-07-2025', 'Depósito en Cajita: Mi Primera Cajita', -731.56], ['20-07-2025', 'SORIANA302 PZAUNIVERSI Compra', -1161.0], ['20-07-2025', 'Retiro de Cajita: Mi Primera Cajita', 1800.0], ['19-07-2025', 'OXXOAURORA BOREAL GDL Compra', -63.0], ['19-07-2025', 'Retiro de Cajita: Mi Primera Cajita', 150.0], ['19-07-2025', 'OXXOAURORA BOREAL GDL Compra', -59.0], ['19-07-2025', 'Retiro de Cajita: Mi Primera Cajita', 60.0], ['18-07-2025', 'OPENPAY*DIDI Devolución', 1.0], ['18-07-2025', 'DidiMXFD pending Compra', -300.44], ['18-07-2025', 'OPENPAY*DIDI Compra', -1.0], ['18-07-2025', 'Retiro de Cajita: Mi Primera Cajita', 305.0], ['15-07-2025', 'Depósito en Cajita: Mi Primera Cajita', -841.06], ['15-07-2025', 'PARCO Compra', -18.0], ['15-07-2025', 'SORIANA302 PZAUNIVERSI Compra', -691.44], ['15-07-2025', 'Retiro de Cajita: Mi Primera Cajita', 1500.0], ['15-07-2025', 'CLIP MX*REST GRANO MAD Compra', -144.5], ['14-07-2025', 'TORTAS TONO ACUEDUCTO Compra', -155.0], ['14-07-2025', 'Retiro de Cajita: Mi Primera Cajita', 350.0], ['13-07-2025', 'Pago a tu tarjeta de crédito Nu', -200.0], ['13-07-2025', 'JONATHAN RAYMUNDO TORRES CARDENAS        yo', 200.0], ['13-07-2025', 'Pago a tu tarjeta de crédito Nu', -300.0], ['13-07-2025', 'Retiro de Cajita: Mi Primera Cajita', 300.0], ['12-07-2025', 'Depósito en Cajita: Mi Primera Cajita', -400.0], ['12-07-2025', 'Retiro de Cajita: Mi Primera Cajita', 400.0], ['02-07-2025', 'Depósito en Cajita: Mi Primera Cajita', -2849.0], ['02-07-2025', 'JONATHAN RAYMUNDO TORRES CARDENAS        yo', 2849.0]]\n"
     ]
    }
   ],
   "source": [
    "from bs4 import BeautifulSoup\n",
    "soup = BeautifulSoup(html, \"lxml\")\n",
    "tags = soup.find_all(\"span\")\n",
    "headers = [\"timestamp\", \"description\", \"value\"]\n",
    "data = []\n",
    "i = 0\n",
    "last = \"Con estos movimientos, tu saldo promedio del periodo fue de\"\n",
    "\n",
    "while i < len(tags):\n",
    "    tag = tags[i].text.strip()\n",
    "    while(not is_date(tag) and not last in tag):\n",
    "        i+=1\n",
    "        tag = tags[i].text.strip()\n",
    "    if(last in tag): break\n",
    "    temp = []\n",
    "    for j in range(3):\n",
    "        if(j == 0): temp.append(to_date(tag))\n",
    "        elif(j == 2): temp.append(to_num(tag))\n",
    "        else: temp.append(tag)\n",
    "        i+=1\n",
    "        tag = tags[i].text.strip()\n",
    "    data.append(temp)\n",
    "\n",
    "print(data)\n"
   ]
  },
  {
   "cell_type": "code",
   "execution_count": 45,
   "id": "141dd68c",
   "metadata": {},
   "outputs": [],
   "source": [
    "import csv\n",
    "\n",
    "with open(rf\"Data\\parsed\\{op}\\{fileName}.csv\", 'w', newline='', encoding=\"utf-8\") as csvFile:\n",
    "    writer = csv.writer(csvFile)\n",
    "    writer.writerow(headers)\n",
    "    writer.writerows(data)\n"
   ]
  },
  {
   "cell_type": "code",
   "execution_count": null,
   "id": "24398727",
   "metadata": {},
   "outputs": [],
   "source": []
  }
 ],
 "metadata": {
  "kernelspec": {
   "display_name": ".venv",
   "language": "python",
   "name": "python3"
  },
  "language_info": {
   "codemirror_mode": {
    "name": "ipython",
    "version": 3
   },
   "file_extension": ".py",
   "mimetype": "text/x-python",
   "name": "python",
   "nbconvert_exporter": "python",
   "pygments_lexer": "ipython3",
   "version": "3.12.8"
  }
 },
 "nbformat": 4,
 "nbformat_minor": 5
}
