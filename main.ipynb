{
 "cells": [
  {
   "cell_type": "code",
   "execution_count": 1,
   "id": "b73d805a",
   "metadata": {},
   "outputs": [],
   "source": [
    "from CCExpenses import *"
   ]
  },
  {
   "cell_type": "code",
   "execution_count": null,
   "id": "1ee478ff",
   "metadata": {},
   "outputs": [],
   "source": [
    "# file name and year of the expenses\n",
    "Expenses(\"Septiembre 2025\",\"2025\").nu()"
   ]
  }
 ],
 "metadata": {
  "kernelspec": {
   "display_name": ".venv",
   "language": "python",
   "name": "python3"
  },
  "language_info": {
   "codemirror_mode": {
    "name": "ipython",
    "version": 3
   },
   "file_extension": ".py",
   "mimetype": "text/x-python",
   "name": "python",
   "nbconvert_exporter": "python",
   "pygments_lexer": "ipython3",
   "version": "3.12.8"
  }
 },
 "nbformat": 4,
 "nbformat_minor": 5
}
